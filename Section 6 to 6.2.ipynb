{
 "cells": [
  {
   "cell_type": "code",
   "execution_count": 3,
   "id": "aa442993-e734-4547-80a7-1132451df8df",
   "metadata": {},
   "outputs": [
    {
     "data": {
      "text/plain": [
       "{'Finland': 'f1', 'South Africa': 'za', 'Nepal': 'np'}"
      ]
     },
     "execution_count": 3,
     "metadata": {},
     "output_type": "execute_result"
    }
   ],
   "source": [
    "country_codes = {'Finland': 'f1', 'South Africa': 'za', 'Nepal': 'np'}\n",
    "country_codes"
   ]
  },
  {
   "cell_type": "code",
   "execution_count": 4,
   "id": "84b797de-de33-45bd-b406-55d8c580e39d",
   "metadata": {},
   "outputs": [
    {
     "data": {
      "text/plain": [
       "3"
      ]
     },
     "execution_count": 4,
     "metadata": {},
     "output_type": "execute_result"
    }
   ],
   "source": [
    "len(country_codes)"
   ]
  },
  {
   "cell_type": "code",
   "execution_count": 5,
   "id": "27e55e5c-b6c7-4520-82a5-3b789e6bea71",
   "metadata": {},
   "outputs": [
    {
     "name": "stdout",
     "output_type": "stream",
     "text": [
      "country_codes is empty\n"
     ]
    }
   ],
   "source": [
    "country_codes.clear()\n",
    "if country_codes:\n",
    "    print('country_codes is not empty')\n",
    "else:\n",
    "    print('country_codes is empty')"
   ]
  },
  {
   "cell_type": "code",
   "execution_count": 1,
   "id": "72186477-300a-4332-aa42-6477a0c40ac0",
   "metadata": {},
   "outputs": [
    {
     "name": "stdout",
     "output_type": "stream",
     "text": [
      "WORD                COUNT\n",
      "Python              2\n",
      "a                   1\n",
      "analyticsComplex    1\n",
      "be                  1\n",
      "can                 1\n",
      "course              1\n",
      "data                1\n",
      "for                 1\n",
      "fundamental         1\n",
      "is                  1\n",
      "language            1\n",
      "learning            1\n",
      "machine             1\n",
      "performed           1\n",
      "tasks               1\n",
      "using               1\n",
      "\n",
      "Number of unique words: 16\n"
     ]
    }
   ],
   "source": [
    "#tokenizing a string and counting unique words\n",
    "text = ('Python is a fundamental course for data analytics'\n",
    "        'Complex machine learning tasks can be performed using Python language')\n",
    "\n",
    "word_counts = {}\n",
    "\n",
    "# count occurrences of each unique word\n",
    "for word in text.split():\n",
    "    if word in word_counts: \n",
    "        word_counts[word] += 1  \n",
    "    else:\n",
    "        word_counts[word] = 1  \n",
    "\n",
    "print(f'{\"WORD\":<20}COUNT')\n",
    "\n",
    "for word, count in sorted(word_counts.items()):\n",
    "    print(f'{word:<20}{count}')\n",
    "\n",
    "print('\\nNumber of unique words:', len(word_counts))"
   ]
  },
  {
   "cell_type": "code",
   "execution_count": 3,
   "id": "0cca1608-9453-4867-bdc4-7b0ab2bbc74f",
   "metadata": {},
   "outputs": [
    {
     "name": "stdout",
     "output_type": "stream",
     "text": [
      "1   10\n",
      "2   11\n",
      "3   12\n",
      "4   1\n",
      "5   16\n"
     ]
    }
   ],
   "source": [
    "import random\n",
    "numbers = [random.randrange(1, 6) for i in range(50)]\n",
    "from collections import Counter\n",
    "counter = Counter(numbers)\n",
    "for value, count in sorted(counter.items()):\n",
    "    print(f'{value:<4}{count}')"
   ]
  },
  {
   "cell_type": "code",
   "execution_count": null,
   "id": "a0072764-e773-4eb3-ba7d-4e97e8bc7e76",
   "metadata": {},
   "outputs": [],
   "source": []
  }
 ],
 "metadata": {
  "kernelspec": {
   "display_name": "Python 3",
   "language": "python",
   "name": "python3"
  },
  "language_info": {
   "codemirror_mode": {
    "name": "ipython",
    "version": 3
   },
   "file_extension": ".py",
   "mimetype": "text/x-python",
   "name": "python",
   "nbconvert_exporter": "python",
   "pygments_lexer": "ipython3",
   "version": "3.9.12"
  }
 },
 "nbformat": 4,
 "nbformat_minor": 5
}
