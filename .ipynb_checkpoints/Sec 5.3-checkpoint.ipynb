{
 "cells": [
  {
   "cell_type": "code",
   "execution_count": 2,
   "id": "99521bc5-46c6-4f18-b1e5-c7b38711c87a",
   "metadata": {},
   "outputs": [
    {
     "data": {
      "text/plain": [
       "(10, 20, 30)"
      ]
     },
     "execution_count": 2,
     "metadata": {},
     "output_type": "execute_result"
    }
   ],
   "source": [
    "tuple1 = (10, 20, 30)\n",
    "tuple2 = tuple1\n",
    "tuple2"
   ]
  },
  {
   "cell_type": "code",
   "execution_count": 3,
   "id": "c7ce20c8-aa94-430d-966e-fd77b3efd7c4",
   "metadata": {},
   "outputs": [
    {
     "data": {
      "text/plain": [
       "(10, 20, 30, 40, 50)"
      ]
     },
     "execution_count": 3,
     "metadata": {},
     "output_type": "execute_result"
    }
   ],
   "source": [
    "tuple1 += (40, 50)\n",
    "tuple1"
   ]
  },
  {
   "cell_type": "code",
   "execution_count": 4,
   "id": "d6b366f1-e1b9-4eef-ae91-a04b19e9c65c",
   "metadata": {},
   "outputs": [
    {
     "data": {
      "text/plain": [
       "(10, 20, 30)"
      ]
     },
     "execution_count": 4,
     "metadata": {},
     "output_type": "execute_result"
    }
   ],
   "source": [
    "tuple2"
   ]
  },
  {
   "cell_type": "code",
   "execution_count": 5,
   "id": "d7ee08f3-102b-4329-a2f6-6b13c33c27c4",
   "metadata": {},
   "outputs": [
    {
     "data": {
      "text/plain": [
       "('Aditya', 'Rayudu', [95, 85, 85])"
      ]
     },
     "execution_count": 5,
     "metadata": {},
     "output_type": "execute_result"
    }
   ],
   "source": [
    "student_tuple = ('Aditya', 'Rayudu', [95, 75, 85])\n",
    "student_tuple[2][1] = 85\n",
    "student_tuple"
   ]
  },
  {
   "cell_type": "code",
   "execution_count": 6,
   "id": "c6f381e5-9e69-4662-b829-3eed29f5bd9d",
   "metadata": {},
   "outputs": [
    {
     "data": {
      "text/plain": [
       "(123.45,)"
      ]
     },
     "execution_count": 6,
     "metadata": {},
     "output_type": "execute_result"
    }
   ],
   "source": [
    "single = (123.45,)\n",
    "single"
   ]
  },
  {
   "cell_type": "code",
   "execution_count": 7,
   "id": "1480cf60-9e20-4f6f-a0bd-41bdfa9264af",
   "metadata": {},
   "outputs": [
    {
     "data": {
      "text/plain": [
       "'Rayudu'"
      ]
     },
     "execution_count": 7,
     "metadata": {},
     "output_type": "execute_result"
    }
   ],
   "source": [
    "student_tuple = ('Rayudu', [95, 75, 85])\n",
    "first_name, grades = student_tuple\n",
    "first_name"
   ]
  },
  {
   "cell_type": "code",
   "execution_count": 8,
   "id": "03b43ca3-5f66-4cbc-9ead-72e31b3b523d",
   "metadata": {},
   "outputs": [
    {
     "data": {
      "text/plain": [
       "[95, 75, 85]"
      ]
     },
     "execution_count": 8,
     "metadata": {},
     "output_type": "execute_result"
    }
   ],
   "source": [
    "grades"
   ]
  },
  {
   "cell_type": "code",
   "execution_count": 9,
   "id": "568c7346-9b99-4db3-9a9e-93015b1bdb69",
   "metadata": {},
   "outputs": [
    {
     "name": "stdout",
     "output_type": "stream",
     "text": [
      "h i\n"
     ]
    }
   ],
   "source": [
    "first, second = 'hi'\n",
    "print(f'{first} {second}')"
   ]
  },
  {
   "cell_type": "code",
   "execution_count": 10,
   "id": "80aa10d6-4e3d-46b6-b06b-fd8104798078",
   "metadata": {},
   "outputs": [
    {
     "name": "stdout",
     "output_type": "stream",
     "text": [
      " 2 3 5\n"
     ]
    }
   ],
   "source": [
    "number1, number2, number3 = [2, 3, 5]\n",
    "print(f' {number1} {number2} {number3}')"
   ]
  },
  {
   "cell_type": "code",
   "execution_count": 13,
   "id": "edc0062d-f002-4196-ac99-172369710b66",
   "metadata": {},
   "outputs": [
    {
     "name": "stdout",
     "output_type": "stream",
     "text": [
      "student1 = 75; student2 = 150\n"
     ]
    }
   ],
   "source": [
    "student1 = 150\n",
    "student2 = 75\n",
    "student1, student2 = (student2, student1)\n",
    "print(f'student1 = {student1}; student2 = {student2}')"
   ]
  },
  {
   "cell_type": "code",
   "execution_count": 14,
   "id": "36315a11-5cc2-478f-bf90-b87446a84df6",
   "metadata": {},
   "outputs": [
    {
     "name": "stdout",
     "output_type": "stream",
     "text": [
      "\n",
      "Creating a bar chart from numbers:\n",
      "Index   Value   Bar\n",
      "    0      19   *******************\n",
      "    1       3   ***\n",
      "    2      15   ***************\n",
      "    3       7   *******\n",
      "    4      11   ***********\n"
     ]
    }
   ],
   "source": [
    "\"\"\"Displaying a bar chart\"\"\"\n",
    "numbers = [19, 3, 15, 7, 11]\n",
    "\n",
    "print('\\nCreating a bar chart from numbers:')\n",
    "print(f'Index{\"Value\":>8}   Bar')\n",
    "\n",
    "for index, value in enumerate(numbers):\n",
    "    print(f'{index:>5}{value:>8}   {\"*\" * value}')"
   ]
  },
  {
   "cell_type": "code",
   "execution_count": null,
   "id": "44de5432-fab9-40f1-8e0f-19442492b53f",
   "metadata": {},
   "outputs": [],
   "source": [
    "#surya_rayudu_module4"
   ]
  }
 ],
 "metadata": {
  "kernelspec": {
   "display_name": "Python 3 (ipykernel)",
   "language": "python",
   "name": "python3"
  },
  "language_info": {
   "codemirror_mode": {
    "name": "ipython",
    "version": 3
   },
   "file_extension": ".py",
   "mimetype": "text/x-python",
   "name": "python",
   "nbconvert_exporter": "python",
   "pygments_lexer": "ipython3",
   "version": "3.9.7"
  }
 },
 "nbformat": 4,
 "nbformat_minor": 5
}
